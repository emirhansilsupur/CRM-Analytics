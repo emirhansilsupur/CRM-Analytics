{
 "cells": [
  {
   "cell_type": "markdown",
   "metadata": {},
   "source": [
    "*It's a method used to determine customer value by looking at three dimensions:*"
   ]
  },
  {
   "cell_type": "markdown",
   "metadata": {},
   "source": [
    "- **Recency**: When is the last time the user takes an action? \n",
    "- **Frequency**: How many times does the user take this action?\n",
    "- **Monetary**: What is the sum of monetary value from this user throughout his/her lifetime?"
   ]
  },
  {
   "cell_type": "markdown",
   "metadata": {},
   "source": [
    "- *Recency : the interval between the **last action** and **today***\n",
    "- *Frequency : the number of action between the user's **signup date** and **today***\n",
    "- *Monetary : the sum of revenue within the user's lifetime*"
   ]
  },
  {
   "cell_type": "code",
   "execution_count": 1,
   "metadata": {},
   "outputs": [],
   "source": [
    "import pandas as pd\n",
    "import numpy as np\n",
    "import datetime as dt\n",
    "import matplotlib.pyplot as plt\n",
    "import seaborn as sns"
   ]
  },
  {
   "cell_type": "code",
   "execution_count": 2,
   "metadata": {},
   "outputs": [],
   "source": [
    "df = pd.read_csv(\"C:/Users/emirh/OneDrive/Belgeler/GitHub/CRM/RFM_analysis/online_retail_listing.csv\",delimiter=\";\",encoding=\"unicode_escape\")"
   ]
  },
  {
   "cell_type": "code",
   "execution_count": 3,
   "metadata": {},
   "outputs": [
    {
     "name": "stdout",
     "output_type": "stream",
     "text": [
      "---------------- Shape ----------------\n",
      "(1048575, 8)\n",
      "---------------- Columns ----------------\n",
      "Index(['Invoice', 'StockCode', 'Description', 'Quantity', 'InvoiceDate',\n",
      "       'Price', 'Customer ID', 'Country'],\n",
      "      dtype='object')\n",
      "---------------- Types ----------------\n",
      "Invoice         object\n",
      "StockCode       object\n",
      "Description     object\n",
      "Quantity         int64\n",
      "InvoiceDate     object\n",
      "Price           object\n",
      "Customer ID    float64\n",
      "Country         object\n",
      "dtype: object\n",
      "---------------- Head ----------------\n",
      "  Invoice StockCode                          Description  Quantity  \\\n",
      "0  489434     85048  15CM CHRISTMAS GLASS BALL 20 LIGHTS        12   \n",
      "1  489434    79323P                   PINK CHERRY LIGHTS        12   \n",
      "2  489434    79323W                  WHITE CHERRY LIGHTS        12   \n",
      "3  489434     22041         RECORD FRAME 7\" SINGLE SIZE         48   \n",
      "4  489434     21232       STRAWBERRY CERAMIC TRINKET BOX        24   \n",
      "\n",
      "       InvoiceDate Price  Customer ID         Country  \n",
      "0  1.12.2009 07:45  6,95      13085.0  United Kingdom  \n",
      "1  1.12.2009 07:45  6,75      13085.0  United Kingdom  \n",
      "2  1.12.2009 07:45  6,75      13085.0  United Kingdom  \n",
      "3  1.12.2009 07:45   2,1      13085.0  United Kingdom  \n",
      "4  1.12.2009 07:45  1,25      13085.0  United Kingdom  \n",
      "---------------- Tail ----------------\n",
      "        Invoice StockCode                        Description  Quantity  \\\n",
      "1048570  580501     23284      DOORMAT KEEP CALM AND COME IN         2   \n",
      "1048571  580501     22507       MEMO BOARD RETROSPOT  DESIGN         3   \n",
      "1048572  580502     22469              HEART OF WICKER SMALL         3   \n",
      "1048573  580502     23489              VINTAGE BELLS GARLAND         2   \n",
      "1048574  580502     23046  PAPER LANTERN 9 POINT DELUXE STAR         1   \n",
      "\n",
      "             InvoiceDate Price  Customer ID         Country  \n",
      "1048570  4.12.2011 13:00  8,25      14546.0  United Kingdom  \n",
      "1048571  4.12.2011 13:00  4,95      14546.0  United Kingdom  \n",
      "1048572  4.12.2011 13:15  1,65      16931.0  United Kingdom  \n",
      "1048573  4.12.2011 13:15  2,89      16931.0  United Kingdom  \n",
      "1048574  4.12.2011 13:15  6,65      16931.0  United Kingdom  \n",
      "---------------- Describe ----------------\n",
      "                 count          mean          std      min      25%      50%  \\\n",
      "Quantity     1048575.0      9.957525   133.518692 -74215.0      1.0      3.0   \n",
      "Customer ID   811893.0  15324.712265  1697.033034  12346.0  13971.0  15260.0   \n",
      "\n",
      "                 75%      max  \n",
      "Quantity        10.0  74215.0  \n",
      "Customer ID  16795.0  18287.0  \n"
     ]
    }
   ],
   "source": [
    "def check_df(df):\n",
    "    print(\"---------------- Shape ----------------\")\n",
    "    print(df.shape)\n",
    "    print(\"---------------- Columns ----------------\")\n",
    "    print(df.columns)\n",
    "    print(\"---------------- Types ----------------\")\n",
    "    print(df.dtypes)\n",
    "    print(\"---------------- Head ----------------\")\n",
    "    print(df.head())\n",
    "    print(\"---------------- Tail ----------------\")\n",
    "    print(df.tail())\n",
    "    print(\"---------------- Describe ----------------\")\n",
    "    print(df.describe().T)\n",
    "\n",
    "check_df(df)    "
   ]
  },
  {
   "cell_type": "code",
   "execution_count": 4,
   "metadata": {},
   "outputs": [],
   "source": [
    "df[\"Price\"] = df[\"Price\"].str.replace(\",\",\".\").astype(\"float64\")"
   ]
  },
  {
   "cell_type": "code",
   "execution_count": 5,
   "metadata": {},
   "outputs": [
    {
     "data": {
      "text/plain": [
       "dtype('float64')"
      ]
     },
     "execution_count": 5,
     "metadata": {},
     "output_type": "execute_result"
    }
   ],
   "source": [
    "df.Price.dtype"
   ]
  },
  {
   "cell_type": "code",
   "execution_count": 6,
   "metadata": {},
   "outputs": [
    {
     "data": {
      "text/plain": [
       "0     83.4\n",
       "1     81.0\n",
       "2     81.0\n",
       "3    100.8\n",
       "4     30.0\n",
       "Name: Total_Price, dtype: float64"
      ]
     },
     "execution_count": 6,
     "metadata": {},
     "output_type": "execute_result"
    }
   ],
   "source": [
    "df[\"Total_Price\"] = df[\"Quantity\"] * df[\"Price\"]\n",
    "df[\"Total_Price\"].head()"
   ]
  },
  {
   "cell_type": "markdown",
   "metadata": {},
   "source": [
    "### Top 5 Most Ordered Product"
   ]
  },
  {
   "cell_type": "code",
   "execution_count": 7,
   "metadata": {},
   "outputs": [
    {
     "data": {
      "text/plain": [
       "<AxesSubplot:title={'center':'Top 5 Ordered Product'}, ylabel='Description'>"
      ]
     },
     "execution_count": 7,
     "metadata": {},
     "output_type": "execute_result"
    },
    {
     "data": {
      "image/png": "[encoded data removed]",
      "text/plain": [
       "<Figure size 432x288 with 1 Axes>"
      ]
     },
     "metadata": {
      "needs_background": "light"
     },
     "output_type": "display_data"
    }
   ],
   "source": [
    "(df\n",
    ".groupby([\"Description\"])\n",
    ".Quantity\n",
    ".sum()\n",
    ".head()\n",
    ".sort_values()\n",
    ".plot(kind=\"barh\",title=\"Top 5 Ordered Product\"))"
   ]
  },
  {
   "cell_type": "markdown",
   "metadata": {},
   "source": [
    "### Top 5 Expensive Product"
   ]
  },
  {
   "cell_type": "code",
   "execution_count": 8,
   "metadata": {},
   "outputs": [
    {
     "data": {
      "text/plain": [
       "<AxesSubplot:title={'center':'Top 5 Expensive Product'}, xlabel='Description'>"
      ]
     },
     "execution_count": 8,
     "metadata": {},
     "output_type": "execute_result"
    },
    {
     "data": {
      "image/png": "[encoded data removed]",
      "text/plain": [
       "<Figure size 432x288 with 1 Axes>"
      ]
     },
     "metadata": {
      "needs_background": "light"
     },
     "output_type": "display_data"
    }
   ],
   "source": [
    "(df\n",
    ".groupby(\"Description\")\n",
    ".Price\n",
    ".max()\n",
    ".sort_values(ascending=False)\n",
    ".head()\n",
    ".plot(kind=\"bar\",rot=45,title= \"Top 5 Expensive Product\")\n",
    ")"
   ]
  },
  {
   "cell_type": "markdown",
   "metadata": {},
   "source": [
    "### How many orders came from which country?"
   ]
  },
  {
   "cell_type": "code",
   "execution_count": 9,
   "metadata": {},
   "outputs": [
    {
     "data": {
      "text/plain": [
       "<AxesSubplot:title={'center':'Top 5 Ordered Countries'}>"
      ]
     },
     "execution_count": 9,
     "metadata": {},
     "output_type": "execute_result"
    },
    {
     "data": {
      "image/png": "[encoded data removed]",
      "text/plain": [
       "<Figure size 432x288 with 1 Axes>"
      ]
     },
     "metadata": {
      "needs_background": "light"
     },
     "output_type": "display_data"
    }
   ],
   "source": [
    "(df\n",
    ".Country\n",
    ".value_counts()\n",
    ".head()\n",
    ".plot(kind=\"bar\",rot=0,title=\"Top 5 Ordered Countries\")\n",
    ")"
   ]
  },
  {
   "cell_type": "markdown",
   "metadata": {},
   "source": [
    "### The invoice with the most expensive purchase"
   ]
  },
  {
   "cell_type": "code",
   "execution_count": 10,
   "metadata": {},
   "outputs": [
    {
     "data": {
      "text/plain": [
       "<AxesSubplot:title={'center':'Most Expensive Purchase'}, xlabel='Invoice'>"
      ]
     },
     "execution_count": 10,
     "metadata": {},
     "output_type": "execute_result"
    },
    {
     "data": {
      "image/png": "[encoded data removed]",
      "text/plain": [
       "<Figure size 432x288 with 1 Axes>"
      ]
     },
     "metadata": {
      "needs_background": "light"
     },
     "output_type": "display_data"
    }
   ],
   "source": [
    "(df\n",
    ".groupby(\"Invoice\")\n",
    ".Total_Price\n",
    ".sum()\n",
    ".sort_values(ascending=False)\n",
    ".head()\n",
    ".plot(kind=\"bar\",rot=0,title=\"Most Expensive Purchase\")\n",
    ")"
   ]
  },
  {
   "cell_type": "markdown",
   "metadata": {},
   "source": [
    "## Missing data analysis"
   ]
  },
  {
   "cell_type": "code",
   "execution_count": 11,
   "metadata": {},
   "outputs": [
    {
     "data": {
      "text/plain": [
       "Invoice         0.000000\n",
       "StockCode       0.000000\n",
       "Description     0.416947\n",
       "Quantity        0.000000\n",
       "InvoiceDate     0.000000\n",
       "Price           0.000000\n",
       "Customer ID    22.571776\n",
       "Country         0.000000\n",
       "Total_Price     0.000000\n",
       "dtype: float64"
      ]
     },
     "execution_count": 11,
     "metadata": {},
     "output_type": "execute_result"
    }
   ],
   "source": [
    "(df\n",
    ".isna()\n",
    ".mean()\n",
    ".mul(100))"
   ]
  },
  {
   "cell_type": "code",
   "execution_count": 12,
   "metadata": {},
   "outputs": [],
   "source": [
    "df.dropna(inplace=True)"
   ]
  },
  {
   "cell_type": "code",
   "execution_count": 13,
   "metadata": {},
   "outputs": [
    {
     "data": {
      "text/plain": [
       "Invoice        0\n",
       "StockCode      0\n",
       "Description    0\n",
       "Quantity       0\n",
       "InvoiceDate    0\n",
       "Price          0\n",
       "Customer ID    0\n",
       "Country        0\n",
       "Total_Price    0\n",
       "dtype: int64"
      ]
     },
     "execution_count": 13,
     "metadata": {},
     "output_type": "execute_result"
    }
   ],
   "source": [
    "df.isnull().sum()"
   ]
  },
  {
   "cell_type": "markdown",
   "metadata": {},
   "source": [
    "## Outlier Engineering"
   ]
  },
  {
   "cell_type": "code",
   "execution_count": 14,
   "metadata": {},
   "outputs": [
    {
     "data": {
      "text/plain": [
       "<AxesSubplot:>"
      ]
     },
     "execution_count": 14,
     "metadata": {},
     "output_type": "execute_result"
    },
    {
     "data": {
      "image/png": "[encoded data removed]",
      "text/plain": [
       "<Figure size 432x288 with 1 Axes>"
      ]
     },
     "metadata": {
      "needs_background": "light"
     },
     "output_type": "display_data"
    }
   ],
   "source": [
    "df[[\"Price\",\"Quantity\",\"Total_Price\"]].plot(kind=\"box\")\n"
   ]
  },
  {
   "cell_type": "code",
   "execution_count": 15,
   "metadata": {},
   "outputs": [],
   "source": [
    "def outlier(data,col):\n",
    "    IQR = data[col].quantile(0.75) - data[col].quantile(0.25)\n",
    "    lower = data[col].quantile(0.25) - (IQR * 1.5)\n",
    "    upper  = data[col].quantile(0.75) + (IQR * 1.5)\n",
    "    b_total = df[(df[col] > upper) | (df[col] < lower)].shape[0]\n",
    "    print(f\"Total Outliers of the {col} : {b_total}\")\n",
    "    df[col] = np.where(df[col]<lower,lower,np.where(df[col]>upper,upper,data[col]))\n",
    "    a_total = df[(df[col] > upper) | (df[col] < lower)].shape[0]\n",
    "    print(f\"(After Replacement) Total Outliers of the {col} : {a_total}\")"
   ]
  },
  {
   "cell_type": "code",
   "execution_count": 16,
   "metadata": {},
   "outputs": [
    {
     "name": "stdout",
     "output_type": "stream",
     "text": [
      "Total Outliers of the Quantity : 53226\n",
      "(After Replacement) Total Outliers of the Quantity : 0\n",
      "Total Outliers of the Price : 70281\n",
      "(After Replacement) Total Outliers of the Price : 0\n",
      "Total Outliers of the Total_Price : 68158\n",
      "(After Replacement) Total Outliers of the Total_Price : 0\n"
     ]
    }
   ],
   "source": [
    "for col in [\"Quantity\",\"Price\",\"Total_Price\"]:\n",
    "    outlier(df,col)"
   ]
  },
  {
   "cell_type": "markdown",
   "metadata": {},
   "source": [
    "### How many unique items in the dataset?"
   ]
  },
  {
   "cell_type": "code",
   "execution_count": 17,
   "metadata": {},
   "outputs": [
    {
     "data": {
      "text/plain": [
       "5297"
      ]
     },
     "execution_count": 17,
     "metadata": {},
     "output_type": "execute_result"
    }
   ],
   "source": [
    "df[\"Description\"].nunique()"
   ]
  },
  {
   "cell_type": "markdown",
   "metadata": {},
   "source": [
    "### Remove the canceled transactions from the dataset\n"
   ]
  },
  {
   "cell_type": "code",
   "execution_count": 18,
   "metadata": {},
   "outputs": [],
   "source": [
    "df = df[~df[\"Invoice\"].str.contains(\"C\", na=False)]"
   ]
  },
  {
   "cell_type": "markdown",
   "metadata": {},
   "source": [
    "### Drop duplicate"
   ]
  },
  {
   "cell_type": "code",
   "execution_count": 19,
   "metadata": {},
   "outputs": [],
   "source": [
    "df.drop_duplicates(subset=[\"Invoice\", \"Customer ID\"], keep=\"first\", inplace=True)\n"
   ]
  },
  {
   "cell_type": "markdown",
   "metadata": {},
   "source": [
    "## Calculating of RFM metrics"
   ]
  },
  {
   "cell_type": "code",
   "execution_count": 20,
   "metadata": {},
   "outputs": [],
   "source": [
    "df[\"InvoiceDate\"] = pd.to_datetime(df[\"InvoiceDate\"])\n",
    "df[\"InvoiceDate\"].max() # last purchase '9.12.2010 20:01'\n",
    "today_date = dt.datetime(2012,1,1)\n"
   ]
  },
  {
   "cell_type": "code",
   "execution_count": 21,
   "metadata": {},
   "outputs": [],
   "source": [
    "rfm = df.groupby(\"Customer ID\").agg(\n",
    "    {\"InvoiceDate\" : lambda date: (today_date - date.max()).days,\n",
    "    \"Invoice\" : lambda num: len(num),\n",
    "    \"Total_Price\": lambda  TotalPrice: TotalPrice.sum()}\n",
    ")\n",
    "rfm.columns=[\"Recency\",\"Frequency\",\"Monetary\"]"
   ]
  },
  {
   "cell_type": "code",
   "execution_count": 22,
   "metadata": {},
   "outputs": [
    {
     "data": {
      "text/html": [
       "<div>\n",
       "<style scoped>\n",
       "    .dataframe tbody tr th:only-of-type {\n",
       "        vertical-align: middle;\n",
       "    }\n",
       "\n",
       "    .dataframe tbody tr th {\n",
       "        vertical-align: top;\n",
       "    }\n",
       "\n",
       "    .dataframe thead th {\n",
       "        text-align: right;\n",
       "    }\n",
       "</style>\n",
       "<table border=\"1\" class=\"dataframe\">\n",
       "  <thead>\n",
       "    <tr style=\"text-align: right;\">\n",
       "      <th></th>\n",
       "      <th>count</th>\n",
       "      <th>mean</th>\n",
       "      <th>std</th>\n",
       "      <th>min</th>\n",
       "      <th>25%</th>\n",
       "      <th>50%</th>\n",
       "      <th>75%</th>\n",
       "      <th>max</th>\n",
       "    </tr>\n",
       "  </thead>\n",
       "  <tbody>\n",
       "    <tr>\n",
       "      <th>Recency</th>\n",
       "      <td>5863.0</td>\n",
       "      <td>233.085622</td>\n",
       "      <td>213.814489</td>\n",
       "      <td>21.0</td>\n",
       "      <td>51.0</td>\n",
       "      <td>142.000</td>\n",
       "      <td>401.0000</td>\n",
       "      <td>1083.00</td>\n",
       "    </tr>\n",
       "    <tr>\n",
       "      <th>Frequency</th>\n",
       "      <td>5863.0</td>\n",
       "      <td>6.219171</td>\n",
       "      <td>12.860518</td>\n",
       "      <td>1.0</td>\n",
       "      <td>1.0</td>\n",
       "      <td>3.000</td>\n",
       "      <td>7.0000</td>\n",
       "      <td>391.00</td>\n",
       "    </tr>\n",
       "    <tr>\n",
       "      <th>Monetary</th>\n",
       "      <td>5863.0</td>\n",
       "      <td>132.694303</td>\n",
       "      <td>337.015846</td>\n",
       "      <td>0.0</td>\n",
       "      <td>20.4</td>\n",
       "      <td>52.575</td>\n",
       "      <td>127.1875</td>\n",
       "      <td>9562.18</td>\n",
       "    </tr>\n",
       "  </tbody>\n",
       "</table>\n",
       "</div>"
      ],
      "text/plain": [
       "            count        mean         std   min   25%      50%       75%  \\\n",
       "Recency    5863.0  233.085622  213.814489  21.0  51.0  142.000  401.0000   \n",
       "Frequency  5863.0    6.219171   12.860518   1.0   1.0    3.000    7.0000   \n",
       "Monetary   5863.0  132.694303  337.015846   0.0  20.4   52.575  127.1875   \n",
       "\n",
       "               max  \n",
       "Recency    1083.00  \n",
       "Frequency   391.00  \n",
       "Monetary   9562.18  "
      ]
     },
     "execution_count": 22,
     "metadata": {},
     "output_type": "execute_result"
    }
   ],
   "source": [
    "rfm.describe().T"
   ]
  },
  {
   "cell_type": "code",
   "execution_count": 23,
   "metadata": {},
   "outputs": [
    {
     "data": {
      "text/html": [
       "<div>\n",
       "<style scoped>\n",
       "    .dataframe tbody tr th:only-of-type {\n",
       "        vertical-align: middle;\n",
       "    }\n",
       "\n",
       "    .dataframe tbody tr th {\n",
       "        vertical-align: top;\n",
       "    }\n",
       "\n",
       "    .dataframe thead th {\n",
       "        text-align: right;\n",
       "    }\n",
       "</style>\n",
       "<table border=\"1\" class=\"dataframe\">\n",
       "  <thead>\n",
       "    <tr style=\"text-align: right;\">\n",
       "      <th></th>\n",
       "      <th>Recency</th>\n",
       "      <th>Frequency</th>\n",
       "      <th>Monetary</th>\n",
       "      <th>R_Score</th>\n",
       "      <th>F_Score</th>\n",
       "      <th>M_Score</th>\n",
       "      <th>RFM_Score</th>\n",
       "    </tr>\n",
       "    <tr>\n",
       "      <th>Customer ID</th>\n",
       "      <th></th>\n",
       "      <th></th>\n",
       "      <th></th>\n",
       "      <th></th>\n",
       "      <th></th>\n",
       "      <th></th>\n",
       "      <th></th>\n",
       "    </tr>\n",
       "  </thead>\n",
       "  <tbody>\n",
       "    <tr>\n",
       "      <th>12346.0</th>\n",
       "      <td>347</td>\n",
       "      <td>12</td>\n",
       "      <td>253.990</td>\n",
       "      <td>2</td>\n",
       "      <td>5</td>\n",
       "      <td>5</td>\n",
       "      <td>255</td>\n",
       "    </tr>\n",
       "    <tr>\n",
       "      <th>12347.0</th>\n",
       "      <td>61</td>\n",
       "      <td>7</td>\n",
       "      <td>160.835</td>\n",
       "      <td>4</td>\n",
       "      <td>4</td>\n",
       "      <td>5</td>\n",
       "      <td>445</td>\n",
       "    </tr>\n",
       "    <tr>\n",
       "      <th>12348.0</th>\n",
       "      <td>97</td>\n",
       "      <td>5</td>\n",
       "      <td>179.310</td>\n",
       "      <td>3</td>\n",
       "      <td>4</td>\n",
       "      <td>5</td>\n",
       "      <td>345</td>\n",
       "    </tr>\n",
       "    <tr>\n",
       "      <th>12349.0</th>\n",
       "      <td>40</td>\n",
       "      <td>4</td>\n",
       "      <td>95.025</td>\n",
       "      <td>5</td>\n",
       "      <td>3</td>\n",
       "      <td>4</td>\n",
       "      <td>534</td>\n",
       "    </tr>\n",
       "    <tr>\n",
       "      <th>12350.0</th>\n",
       "      <td>332</td>\n",
       "      <td>1</td>\n",
       "      <td>25.200</td>\n",
       "      <td>2</td>\n",
       "      <td>1</td>\n",
       "      <td>2</td>\n",
       "      <td>212</td>\n",
       "    </tr>\n",
       "  </tbody>\n",
       "</table>\n",
       "</div>"
      ],
      "text/plain": [
       "             Recency  Frequency  Monetary R_Score F_Score M_Score RFM_Score\n",
       "Customer ID                                                                \n",
       "12346.0          347         12   253.990       2       5       5       255\n",
       "12347.0           61          7   160.835       4       4       5       445\n",
       "12348.0           97          5   179.310       3       4       5       345\n",
       "12349.0           40          4    95.025       5       3       4       534\n",
       "12350.0          332          1    25.200       2       1       2       212"
      ]
     },
     "execution_count": 23,
     "metadata": {},
     "output_type": "execute_result"
    }
   ],
   "source": [
    "rfm[\"R_Score\"] = pd.qcut(rfm[\"Recency\"],5,labels=[5,4,3,2,1])\n",
    "rfm[\"F_Score\"] = pd.qcut(rfm[\"Frequency\"].rank(method=\"first\"),5, labels=[1,2,3,4,5])\n",
    "rfm[\"M_Score\"] = pd.qcut(rfm[\"Monetary\"],5,labels=[1,2,3,4,5])\n",
    "rfm[\"RFM_Score\"] = rfm[\"R_Score\"].astype(str) +rfm[\"F_Score\"].astype(str) + rfm[\"M_Score\"].astype(str)\n",
    "rfm.head()"
   ]
  },
  {
   "cell_type": "code",
   "execution_count": 26,
   "metadata": {},
   "outputs": [
    {
     "data": {
      "text/html": [
       "<div>\n",
       "<style scoped>\n",
       "    .dataframe tbody tr th:only-of-type {\n",
       "        vertical-align: middle;\n",
       "    }\n",
       "\n",
       "    .dataframe tbody tr th {\n",
       "        vertical-align: top;\n",
       "    }\n",
       "\n",
       "    .dataframe thead th {\n",
       "        text-align: right;\n",
       "    }\n",
       "</style>\n",
       "<table border=\"1\" class=\"dataframe\">\n",
       "  <thead>\n",
       "    <tr style=\"text-align: right;\">\n",
       "      <th></th>\n",
       "      <th>Recency</th>\n",
       "      <th>Frequency</th>\n",
       "      <th>Monetary</th>\n",
       "      <th>R_Score</th>\n",
       "      <th>F_Score</th>\n",
       "      <th>M_Score</th>\n",
       "      <th>RFM_Score</th>\n",
       "      <th>Segment</th>\n",
       "    </tr>\n",
       "    <tr>\n",
       "      <th>Customer ID</th>\n",
       "      <th></th>\n",
       "      <th></th>\n",
       "      <th></th>\n",
       "      <th></th>\n",
       "      <th></th>\n",
       "      <th></th>\n",
       "      <th></th>\n",
       "      <th></th>\n",
       "    </tr>\n",
       "  </thead>\n",
       "  <tbody>\n",
       "    <tr>\n",
       "      <th>12346.0</th>\n",
       "      <td>347</td>\n",
       "      <td>12</td>\n",
       "      <td>253.990</td>\n",
       "      <td>2</td>\n",
       "      <td>5</td>\n",
       "      <td>5</td>\n",
       "      <td>255</td>\n",
       "      <td>Can't Loose5</td>\n",
       "    </tr>\n",
       "    <tr>\n",
       "      <th>12347.0</th>\n",
       "      <td>61</td>\n",
       "      <td>7</td>\n",
       "      <td>160.835</td>\n",
       "      <td>4</td>\n",
       "      <td>4</td>\n",
       "      <td>5</td>\n",
       "      <td>445</td>\n",
       "      <td>Loyal Customers5</td>\n",
       "    </tr>\n",
       "    <tr>\n",
       "      <th>12348.0</th>\n",
       "      <td>97</td>\n",
       "      <td>5</td>\n",
       "      <td>179.310</td>\n",
       "      <td>3</td>\n",
       "      <td>4</td>\n",
       "      <td>5</td>\n",
       "      <td>345</td>\n",
       "      <td>Loyal Customers5</td>\n",
       "    </tr>\n",
       "    <tr>\n",
       "      <th>12349.0</th>\n",
       "      <td>40</td>\n",
       "      <td>4</td>\n",
       "      <td>95.025</td>\n",
       "      <td>5</td>\n",
       "      <td>3</td>\n",
       "      <td>4</td>\n",
       "      <td>534</td>\n",
       "      <td>5Loyal Customers</td>\n",
       "    </tr>\n",
       "    <tr>\n",
       "      <th>12350.0</th>\n",
       "      <td>332</td>\n",
       "      <td>1</td>\n",
       "      <td>25.200</td>\n",
       "      <td>2</td>\n",
       "      <td>1</td>\n",
       "      <td>2</td>\n",
       "      <td>212</td>\n",
       "      <td>Hibernating2</td>\n",
       "    </tr>\n",
       "  </tbody>\n",
       "</table>\n",
       "</div>"
      ],
      "text/plain": [
       "             Recency  Frequency  Monetary R_Score F_Score M_Score RFM_Score  \\\n",
       "Customer ID                                                                   \n",
       "12346.0          347         12   253.990       2       5       5       255   \n",
       "12347.0           61          7   160.835       4       4       5       445   \n",
       "12348.0           97          5   179.310       3       4       5       345   \n",
       "12349.0           40          4    95.025       5       3       4       534   \n",
       "12350.0          332          1    25.200       2       1       2       212   \n",
       "\n",
       "                      Segment  \n",
       "Customer ID                    \n",
       "12346.0          Can't Loose5  \n",
       "12347.0      Loyal Customers5  \n",
       "12348.0      Loyal Customers5  \n",
       "12349.0      5Loyal Customers  \n",
       "12350.0          Hibernating2  "
      ]
     },
     "execution_count": 26,
     "metadata": {},
     "output_type": "execute_result"
    }
   ],
   "source": [
    "seg_map = {\n",
    "    r'[1-2][1-2]': \"Hibernating\",\n",
    "    r'[1-2][3-4]': \"At Risk\",\n",
    "    r'[1-2]5': \"Can\\'t Loose\",\n",
    "    r'3[1-2]': \"About to Sleep\",\n",
    "    r'33': \"Need Attention\",\n",
    "    r'[3-4][4-5]': \"Loyal Customers\",\n",
    "    r'41': \"Promising\",\n",
    "    r'51': \"New Customers\",\n",
    "    r'[4-5][2-3]': \"Potential Loyalists\",\n",
    "    r'5[4-5]': \"Champions\"\n",
    "}\n",
    "\n",
    "rfm['Segment'] = rfm['RFM_Score'].replace(seg_map, regex=True)\n",
    "\n",
    "rfm.head()"
   ]
  },
  {
   "cell_type": "code",
   "execution_count": null,
   "metadata": {},
   "outputs": [],
   "source": []
  }
 ],
 "metadata": {
  "kernelspec": {
   "display_name": "Python 3.9.7 64-bit",
   "language": "python",
   "name": "python3"
  },
  "language_info": {
   "codemirror_mode": {
    "name": "ipython",
    "version": 3
   },
   "file_extension": ".py",
   "mimetype": "text/x-python",
   "name": "python",
   "nbconvert_exporter": "python",
   "pygments_lexer": "ipython3",
   "version": "3.9.7"
  },
  "orig_nbformat": 4,
  "vscode": {
   "interpreter": {
    "hash": "250a0ba0e8a9f87a8f9ed7fb1362bbcacf36eaa09e0a0e0086aabcde44b706bf"
   }
  }
 },
 "nbformat": 4,
 "nbformat_minor": 2
}
