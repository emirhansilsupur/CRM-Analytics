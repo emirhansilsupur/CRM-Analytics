{
 "cells": [
  {
   "cell_type": "markdown",
   "metadata": {},
   "source": [
    "*It's a method used to determine customer value by looking at three dimensions:*"
   ]
  },
  {
   "cell_type": "markdown",
   "metadata": {},
   "source": [
    "- **Recency**: When is the last time the user takes an action? \n",
    "- **Frequency**: How many times does the user take this action?\n",
    "- **Monetary**: What is the sum of monetary value from this user throughout his/her lifetime?"
   ]
  },
  {
   "cell_type": "markdown",
   "metadata": {},
   "source": [
    "- *Recency : the interval between the **last action** and **today***\n",
    "- *Frequency : the number of action between the user's **signup date** and **today***\n",
    "- *Monetary : the sum of revenue within the user's lifetime*"
   ]
  },
  {
   "cell_type": "markdown",
   "metadata": {},
   "source": [
    "### Library"
   ]
  },
  {
   "cell_type": "code",
   "execution_count": 1,
   "metadata": {},
   "outputs": [],
   "source": [
    "import pandas as pd\n",
    "import numpy as np\n",
    "import datetime as dt\n",
    "import matplotlib.pyplot as plt\n",
    "import seaborn as sns\n",
    "from sklearn.cluster import KMeans\n",
    "from sklearn.preprocessing import MinMaxScaler\n"
   ]
  },
  {
   "cell_type": "code",
   "execution_count": 2,
   "metadata": {},
   "outputs": [],
   "source": [
    "df = pd.read_csv(\"C:/Users/emirh/OneDrive/Belgeler/GitHub/CRM/RFM_analysis/online_retail_listing.csv\",delimiter=\";\",encoding=\"unicode_escape\")"
   ]
  },
  {
   "cell_type": "code",
   "execution_count": 3,
   "metadata": {},
   "outputs": [
    {
     "name": "stdout",
     "output_type": "stream",
     "text": [
      "---------------- Shape ----------------\n",
      "(1048575, 8)\n",
      "---------------- Columns ----------------\n",
      "Index(['Invoice', 'StockCode', 'Description', 'Quantity', 'InvoiceDate',\n",
      "       'Price', 'Customer ID', 'Country'],\n",
      "      dtype='object')\n",
      "---------------- Types ----------------\n",
      "Invoice         object\n",
      "StockCode       object\n",
      "Description     object\n",
      "Quantity         int64\n",
      "InvoiceDate     object\n",
      "Price           object\n",
      "Customer ID    float64\n",
      "Country         object\n",
      "dtype: object\n",
      "---------------- Head ----------------\n",
      "  Invoice StockCode                          Description  Quantity  \\\n",
      "0  489434     85048  15CM CHRISTMAS GLASS BALL 20 LIGHTS        12   \n",
      "1  489434    79323P                   PINK CHERRY LIGHTS        12   \n",
      "2  489434    79323W                  WHITE CHERRY LIGHTS        12   \n",
      "3  489434     22041         RECORD FRAME 7\" SINGLE SIZE         48   \n",
      "4  489434     21232       STRAWBERRY CERAMIC TRINKET BOX        24   \n",
      "\n",
      "       InvoiceDate Price  Customer ID         Country  \n",
      "0  1.12.2009 07:45  6,95      13085.0  United Kingdom  \n",
      "1  1.12.2009 07:45  6,75      13085.0  United Kingdom  \n",
      "2  1.12.2009 07:45  6,75      13085.0  United Kingdom  \n",
      "3  1.12.2009 07:45   2,1      13085.0  United Kingdom  \n",
      "4  1.12.2009 07:45  1,25      13085.0  United Kingdom  \n",
      "---------------- Tail ----------------\n",
      "        Invoice StockCode                        Description  Quantity  \\\n",
      "1048570  580501     23284      DOORMAT KEEP CALM AND COME IN         2   \n",
      "1048571  580501     22507       MEMO BOARD RETROSPOT  DESIGN         3   \n",
      "1048572  580502     22469              HEART OF WICKER SMALL         3   \n",
      "1048573  580502     23489              VINTAGE BELLS GARLAND         2   \n",
      "1048574  580502     23046  PAPER LANTERN 9 POINT DELUXE STAR         1   \n",
      "\n",
      "             InvoiceDate Price  Customer ID         Country  \n",
      "1048570  4.12.2011 13:00  8,25      14546.0  United Kingdom  \n",
      "1048571  4.12.2011 13:00  4,95      14546.0  United Kingdom  \n",
      "1048572  4.12.2011 13:15  1,65      16931.0  United Kingdom  \n",
      "1048573  4.12.2011 13:15  2,89      16931.0  United Kingdom  \n",
      "1048574  4.12.2011 13:15  6,65      16931.0  United Kingdom  \n",
      "---------------- Describe ----------------\n",
      "                 count          mean          std      min      25%      50%  \\\n",
      "Quantity     1048575.0      9.957525   133.518692 -74215.0      1.0      3.0   \n",
      "Customer ID   811893.0  15324.712265  1697.033034  12346.0  13971.0  15260.0   \n",
      "\n",
      "                 75%      max  \n",
      "Quantity        10.0  74215.0  \n",
      "Customer ID  16795.0  18287.0  \n"
     ]
    }
   ],
   "source": [
    "def check_df(df):\n",
    "    print(\"---------------- Shape ----------------\")\n",
    "    print(df.shape)\n",
    "    print(\"---------------- Columns ----------------\")\n",
    "    print(df.columns)\n",
    "    print(\"---------------- Types ----------------\")\n",
    "    print(df.dtypes)\n",
    "    print(\"---------------- Head ----------------\")\n",
    "    print(df.head())\n",
    "    print(\"---------------- Tail ----------------\")\n",
    "    print(df.tail())\n",
    "    print(\"---------------- Describe ----------------\")\n",
    "    print(df.describe().T)\n",
    "\n",
    "check_df(df)    "
   ]
  },
  {
   "cell_type": "code",
   "execution_count": 4,
   "metadata": {},
   "outputs": [],
   "source": [
    "df[\"Price\"] = df[\"Price\"].str.replace(\",\",\".\").astype(\"float64\")"
   ]
  },
  {
   "cell_type": "code",
   "execution_count": 5,
   "metadata": {},
   "outputs": [
    {
     "data": {
      "text/plain": [
       "dtype('float64')"
      ]
     },
     "execution_count": 5,
     "metadata": {},
     "output_type": "execute_result"
    }
   ],
   "source": [
    "df.Price.dtype"
   ]
  },
  {
   "cell_type": "code",
   "execution_count": 6,
   "metadata": {},
   "outputs": [
    {
     "data": {
      "text/plain": [
       "0     83.4\n",
       "1     81.0\n",
       "2     81.0\n",
       "3    100.8\n",
       "4     30.0\n",
       "Name: Total_Price, dtype: float64"
      ]
     },
     "execution_count": 6,
     "metadata": {},
     "output_type": "execute_result"
    }
   ],
   "source": [
    "df[\"Total_Price\"] = df[\"Quantity\"] * df[\"Price\"]\n",
    "df[\"Total_Price\"].head()"
   ]
  },
  {
   "cell_type": "markdown",
   "metadata": {},
   "source": [
    "### Top 5 Most Ordered Product"
   ]
  },
  {
   "cell_type": "code",
   "execution_count": 7,
   "metadata": {},
   "outputs": [
    {
     "data": {
      "image/png": "[encoded data removed]",
      "text/plain": [
       "<Figure size 864x360 with 1 Axes>"
      ]
     },
     "metadata": {
      "needs_background": "light"
     },
     "output_type": "display_data"
    }
   ],
   "source": [
    "fig, ax = plt.subplots(figsize=(12,5))\n",
    "\n",
    "counts = (df\n",
    "          .Description\n",
    "          .value_counts()\n",
    "          .head()\n",
    "          )\n",
    "\n",
    "\n",
    "(counts\n",
    ".plot.bar(width=.9, rot=0, ax=ax)\n",
    ")\n",
    "\n",
    "ax.set_xticklabels([\"\\n\".join(label.split()) for label in counts.index])\n",
    "ax.spines[[\"top\",\"right\",\"left\"]].set_visible(False)\n",
    "ax.set_title(\"Top 5 Ordered Product\",fontsize=15)\n",
    "\n",
    "ax.get_yaxis().set_visible(False)\n",
    "ax.tick_params(bottom=False)\n",
    "for pos, value in enumerate(counts):\n",
    "    ax.text(pos, value+100, f\"{value}\",ha=\"center\")"
   ]
  },
  {
   "cell_type": "markdown",
   "metadata": {},
   "source": [
    "### Top 5 Expensive Product"
   ]
  },
  {
   "cell_type": "code",
   "execution_count": 8,
   "metadata": {},
   "outputs": [
    {
     "data": {
      "image/png": "[encoded data removed]",
      "text/plain": [
       "<Figure size 864x360 with 1 Axes>"
      ]
     },
     "metadata": {
      "needs_background": "light"
     },
     "output_type": "display_data"
    }
   ],
   "source": [
    "fig, ax = plt.subplots(figsize=(12,5))\n",
    "max_desc =(df\n",
    ".groupby(\"Description\")\n",
    ".Price\n",
    ".max()\n",
    ".sort_values(ascending=False)\n",
    ".head()\n",
    ")\n",
    "(\n",
    "max_desc\n",
    ".plot(kind=\"bar\",rot=0, ax=ax)\n",
    ")\n",
    "ax.set_xticklabels([\"\\n\".join(label.split()) for label in max_desc.index])\n",
    "ax.spines[[\"top\",\"right\",\"left\"]].set_visible(False)\n",
    "ax.set_title(\"Top 5 Expensive Product\",fontsize=15)\n",
    "\n",
    "ax.get_yaxis().set_visible(False)\n",
    "ax.tick_params(bottom=False)\n",
    "for pos, value in enumerate(max_desc):\n",
    "    ax.text(pos, value+200, f\"{value}\",ha=\"center\")"
   ]
  },
  {
   "cell_type": "markdown",
   "metadata": {},
   "source": [
    "### How many orders came from which country?"
   ]
  },
  {
   "cell_type": "code",
   "execution_count": 9,
   "metadata": {},
   "outputs": [
    {
     "data": {
      "image/png": "[encoded data removed]",
      "text/plain": [
       "<Figure size 864x360 with 1 Axes>"
      ]
     },
     "metadata": {
      "needs_background": "light"
     },
     "output_type": "display_data"
    }
   ],
   "source": [
    "fig ,ax = plt.subplots(figsize=(12,5))\n",
    "c_counts=(df\n",
    ".Country\n",
    ".value_counts()\n",
    ".head()\n",
    ")\n",
    "(\n",
    "c_counts\n",
    ".plot(kind=\"bar\",rot=0,ax=ax)\n",
    ")\n",
    "ax.set_xticklabels([\"\\n\".join(label.split()) for label in c_counts.index])\n",
    "ax.spines[[\"top\",\"left\",\"right\"]].set_visible(False)\n",
    "ax.set_title(\"Top 5 Ordered Countries\",fontsize=15)\n",
    "ax.get_yaxis().set_visible(False)\n",
    "ax.tick_params(bottom=False)\n",
    "for pos, value in enumerate(c_counts):\n",
    "    ax.text(pos, value+10000, f\"{value}\",ha=\"center\")"
   ]
  },
  {
   "cell_type": "markdown",
   "metadata": {},
   "source": [
    "### The invoice with the most expensive purchase"
   ]
  },
  {
   "cell_type": "code",
   "execution_count": 10,
   "metadata": {},
   "outputs": [
    {
     "data": {
      "image/png": "[encoded data removed]",
      "text/plain": [
       "<Figure size 864x360 with 1 Axes>"
      ]
     },
     "metadata": {
      "needs_background": "light"
     },
     "output_type": "display_data"
    }
   ],
   "source": [
    "fig, ax = plt.subplots(figsize=(12,5))\n",
    "\n",
    "i_counts=(df\n",
    ".groupby(\"Invoice\")\n",
    ".Total_Price\n",
    ".sum()\n",
    ".sort_values(ascending=False)\n",
    ".head()\n",
    ")\n",
    "(\n",
    "i_counts\n",
    ".plot(kind=\"bar\",rot=0,ax=ax)\n",
    ")\n",
    "ax.spines[[\"top\",\"left\",\"right\"]].set_visible(False)\n",
    "ax.set_title(\"Most Expensive Purchase\",fontsize=15)\n",
    "ax.get_yaxis().set_visible(False)\n",
    "ax.tick_params(bottom=False)\n",
    "for pos, value in enumerate(i_counts):\n",
    "    ax.text(pos, value+200, f\"{value}\",ha=\"center\")\n",
    "\n"
   ]
  },
  {
   "cell_type": "markdown",
   "metadata": {},
   "source": [
    "## Missing data analysis"
   ]
  },
  {
   "cell_type": "code",
   "execution_count": 11,
   "metadata": {},
   "outputs": [
    {
     "data": {
      "text/plain": [
       "Invoice         0.000000\n",
       "StockCode       0.000000\n",
       "Description     0.416947\n",
       "Quantity        0.000000\n",
       "InvoiceDate     0.000000\n",
       "Price           0.000000\n",
       "Customer ID    22.571776\n",
       "Country         0.000000\n",
       "Total_Price     0.000000\n",
       "dtype: float64"
      ]
     },
     "execution_count": 11,
     "metadata": {},
     "output_type": "execute_result"
    }
   ],
   "source": [
    "(df\n",
    ".isna()\n",
    ".mean()\n",
    ".mul(100))"
   ]
  },
  {
   "cell_type": "code",
   "execution_count": 12,
   "metadata": {},
   "outputs": [],
   "source": [
    "df.dropna(inplace=True)"
   ]
  },
  {
   "cell_type": "code",
   "execution_count": 13,
   "metadata": {},
   "outputs": [
    {
     "data": {
      "text/plain": [
       "Invoice        0\n",
       "StockCode      0\n",
       "Description    0\n",
       "Quantity       0\n",
       "InvoiceDate    0\n",
       "Price          0\n",
       "Customer ID    0\n",
       "Country        0\n",
       "Total_Price    0\n",
       "dtype: int64"
      ]
     },
     "execution_count": 13,
     "metadata": {},
     "output_type": "execute_result"
    }
   ],
   "source": [
    "df.isnull().sum()"
   ]
  },
  {
   "cell_type": "markdown",
   "metadata": {},
   "source": [
    "## Outlier Engineering"
   ]
  },
  {
   "cell_type": "code",
   "execution_count": 14,
   "metadata": {},
   "outputs": [
    {
     "data": {
      "text/plain": [
       "<AxesSubplot:>"
      ]
     },
     "execution_count": 14,
     "metadata": {},
     "output_type": "execute_result"
    },
    {
     "data": {
      "image/png": "[encoded data removed]",
      "text/plain": [
       "<Figure size 432x288 with 1 Axes>"
      ]
     },
     "metadata": {
      "needs_background": "light"
     },
     "output_type": "display_data"
    }
   ],
   "source": [
    "df[[\"Price\",\"Quantity\",\"Total_Price\"]].plot(kind=\"box\")\n"
   ]
  },
  {
   "cell_type": "code",
   "execution_count": 15,
   "metadata": {},
   "outputs": [],
   "source": [
    "def outlier(data,col):\n",
    "    IQR = data[col].quantile(0.75) - data[col].quantile(0.25)\n",
    "    lower = data[col].quantile(0.25) - (IQR * 1.5)\n",
    "    upper  = data[col].quantile(0.75) + (IQR * 1.5)\n",
    "    b_total = df[(df[col] > upper) | (df[col] < lower)].shape[0]\n",
    "    print(f\"Total Outliers of the {col} : {b_total}\")\n",
    "    df[col] = np.where(df[col]<lower,lower,np.where(df[col]>upper,upper,data[col]))\n",
    "    a_total = df[(df[col] > upper) | (df[col] < lower)].shape[0]\n",
    "    print(f\"(After Replacement) Total Outliers of the {col} : {a_total}\")"
   ]
  },
  {
   "cell_type": "code",
   "execution_count": 16,
   "metadata": {},
   "outputs": [
    {
     "name": "stdout",
     "output_type": "stream",
     "text": [
      "Total Outliers of the Quantity : 53226\n",
      "(After Replacement) Total Outliers of the Quantity : 0\n",
      "Total Outliers of the Price : 70281\n",
      "(After Replacement) Total Outliers of the Price : 0\n",
      "Total Outliers of the Total_Price : 68158\n",
      "(After Replacement) Total Outliers of the Total_Price : 0\n"
     ]
    }
   ],
   "source": [
    "for col in [\"Quantity\",\"Price\",\"Total_Price\"]:\n",
    "    outlier(df,col)"
   ]
  },
  {
   "cell_type": "markdown",
   "metadata": {},
   "source": [
    "### How many unique items in the dataset?"
   ]
  },
  {
   "cell_type": "code",
   "execution_count": 17,
   "metadata": {},
   "outputs": [
    {
     "data": {
      "text/plain": [
       "5297"
      ]
     },
     "execution_count": 17,
     "metadata": {},
     "output_type": "execute_result"
    }
   ],
   "source": [
    "df[\"Description\"].nunique()"
   ]
  },
  {
   "cell_type": "markdown",
   "metadata": {},
   "source": [
    "### Remove the canceled transactions from the dataset\n"
   ]
  },
  {
   "cell_type": "code",
   "execution_count": 18,
   "metadata": {},
   "outputs": [],
   "source": [
    "df = df[~df[\"Invoice\"].str.contains(\"C\", na=False)]"
   ]
  },
  {
   "cell_type": "markdown",
   "metadata": {},
   "source": [
    "### Drop duplicate"
   ]
  },
  {
   "cell_type": "code",
   "execution_count": 19,
   "metadata": {},
   "outputs": [],
   "source": [
    "df.drop_duplicates(subset=[\"Invoice\", \"Customer ID\"], keep=\"first\", inplace=True)\n"
   ]
  },
  {
   "cell_type": "markdown",
   "metadata": {},
   "source": [
    "## Calculating of RFM metrics"
   ]
  },
  {
   "cell_type": "code",
   "execution_count": 20,
   "metadata": {},
   "outputs": [],
   "source": [
    "df[\"InvoiceDate\"] = pd.to_datetime(df[\"InvoiceDate\"])\n",
    "df[\"InvoiceDate\"].max() # last purchase '9.12.2010 20:01'\n",
    "today_date = dt.datetime(2012,1,1)\n"
   ]
  },
  {
   "cell_type": "code",
   "execution_count": 21,
   "metadata": {},
   "outputs": [],
   "source": [
    "rfm = df.groupby(\"Customer ID\").agg(\n",
    "    {\"InvoiceDate\" : lambda date: (today_date - date.max()).days,\n",
    "    \"Invoice\" : lambda num: len(num),\n",
    "    \"Total_Price\": lambda  TotalPrice: TotalPrice.sum()}\n",
    ")\n",
    "rfm.columns=[\"Recency\",\"Frequency\",\"Monetary\"]"
   ]
  },
  {
   "cell_type": "code",
   "execution_count": 22,
   "metadata": {},
   "outputs": [
    {
     "data": {
      "text/html": [
       "<div>\n",
       "<style scoped>\n",
       "    .dataframe tbody tr th:only-of-type {\n",
       "        vertical-align: middle;\n",
       "    }\n",
       "\n",
       "    .dataframe tbody tr th {\n",
       "        vertical-align: top;\n",
       "    }\n",
       "\n",
       "    .dataframe thead th {\n",
       "        text-align: right;\n",
       "    }\n",
       "</style>\n",
       "<table border=\"1\" class=\"dataframe\">\n",
       "  <thead>\n",
       "    <tr style=\"text-align: right;\">\n",
       "      <th></th>\n",
       "      <th>count</th>\n",
       "      <th>mean</th>\n",
       "      <th>std</th>\n",
       "      <th>min</th>\n",
       "      <th>25%</th>\n",
       "      <th>50%</th>\n",
       "      <th>75%</th>\n",
       "      <th>max</th>\n",
       "    </tr>\n",
       "  </thead>\n",
       "  <tbody>\n",
       "    <tr>\n",
       "      <th>Recency</th>\n",
       "      <td>5863.0</td>\n",
       "      <td>233.085622</td>\n",
       "      <td>213.814489</td>\n",
       "      <td>21.0</td>\n",
       "      <td>51.0</td>\n",
       "      <td>142.000</td>\n",
       "      <td>401.0000</td>\n",
       "      <td>1083.00</td>\n",
       "    </tr>\n",
       "    <tr>\n",
       "      <th>Frequency</th>\n",
       "      <td>5863.0</td>\n",
       "      <td>6.219171</td>\n",
       "      <td>12.860518</td>\n",
       "      <td>1.0</td>\n",
       "      <td>1.0</td>\n",
       "      <td>3.000</td>\n",
       "      <td>7.0000</td>\n",
       "      <td>391.00</td>\n",
       "    </tr>\n",
       "    <tr>\n",
       "      <th>Monetary</th>\n",
       "      <td>5863.0</td>\n",
       "      <td>132.694303</td>\n",
       "      <td>337.015846</td>\n",
       "      <td>0.0</td>\n",
       "      <td>20.4</td>\n",
       "      <td>52.575</td>\n",
       "      <td>127.1875</td>\n",
       "      <td>9562.18</td>\n",
       "    </tr>\n",
       "  </tbody>\n",
       "</table>\n",
       "</div>"
      ],
      "text/plain": [
       "            count        mean         std   min   25%      50%       75%  \\\n",
       "Recency    5863.0  233.085622  213.814489  21.0  51.0  142.000  401.0000   \n",
       "Frequency  5863.0    6.219171   12.860518   1.0   1.0    3.000    7.0000   \n",
       "Monetary   5863.0  132.694303  337.015846   0.0  20.4   52.575  127.1875   \n",
       "\n",
       "               max  \n",
       "Recency    1083.00  \n",
       "Frequency   391.00  \n",
       "Monetary   9562.18  "
      ]
     },
     "execution_count": 22,
     "metadata": {},
     "output_type": "execute_result"
    }
   ],
   "source": [
    "rfm.describe().T"
   ]
  },
  {
   "cell_type": "code",
   "execution_count": 23,
   "metadata": {},
   "outputs": [
    {
     "data": {
      "text/html": [
       "<div>\n",
       "<style scoped>\n",
       "    .dataframe tbody tr th:only-of-type {\n",
       "        vertical-align: middle;\n",
       "    }\n",
       "\n",
       "    .dataframe tbody tr th {\n",
       "        vertical-align: top;\n",
       "    }\n",
       "\n",
       "    .dataframe thead th {\n",
       "        text-align: right;\n",
       "    }\n",
       "</style>\n",
       "<table border=\"1\" class=\"dataframe\">\n",
       "  <thead>\n",
       "    <tr style=\"text-align: right;\">\n",
       "      <th></th>\n",
       "      <th>Recency</th>\n",
       "      <th>Frequency</th>\n",
       "      <th>Monetary</th>\n",
       "      <th>R_Score</th>\n",
       "      <th>F_Score</th>\n",
       "      <th>M_Score</th>\n",
       "      <th>RFM_Score</th>\n",
       "    </tr>\n",
       "    <tr>\n",
       "      <th>Customer ID</th>\n",
       "      <th></th>\n",
       "      <th></th>\n",
       "      <th></th>\n",
       "      <th></th>\n",
       "      <th></th>\n",
       "      <th></th>\n",
       "      <th></th>\n",
       "    </tr>\n",
       "  </thead>\n",
       "  <tbody>\n",
       "    <tr>\n",
       "      <th>12346.0</th>\n",
       "      <td>347</td>\n",
       "      <td>12</td>\n",
       "      <td>253.990</td>\n",
       "      <td>2</td>\n",
       "      <td>5</td>\n",
       "      <td>5</td>\n",
       "      <td>255</td>\n",
       "    </tr>\n",
       "    <tr>\n",
       "      <th>12347.0</th>\n",
       "      <td>61</td>\n",
       "      <td>7</td>\n",
       "      <td>160.835</td>\n",
       "      <td>4</td>\n",
       "      <td>4</td>\n",
       "      <td>5</td>\n",
       "      <td>445</td>\n",
       "    </tr>\n",
       "    <tr>\n",
       "      <th>12348.0</th>\n",
       "      <td>97</td>\n",
       "      <td>5</td>\n",
       "      <td>179.310</td>\n",
       "      <td>3</td>\n",
       "      <td>4</td>\n",
       "      <td>5</td>\n",
       "      <td>345</td>\n",
       "    </tr>\n",
       "    <tr>\n",
       "      <th>12349.0</th>\n",
       "      <td>40</td>\n",
       "      <td>4</td>\n",
       "      <td>95.025</td>\n",
       "      <td>5</td>\n",
       "      <td>3</td>\n",
       "      <td>4</td>\n",
       "      <td>534</td>\n",
       "    </tr>\n",
       "    <tr>\n",
       "      <th>12350.0</th>\n",
       "      <td>332</td>\n",
       "      <td>1</td>\n",
       "      <td>25.200</td>\n",
       "      <td>2</td>\n",
       "      <td>1</td>\n",
       "      <td>2</td>\n",
       "      <td>212</td>\n",
       "    </tr>\n",
       "  </tbody>\n",
       "</table>\n",
       "</div>"
      ],
      "text/plain": [
       "             Recency  Frequency  Monetary R_Score F_Score M_Score RFM_Score\n",
       "Customer ID                                                                \n",
       "12346.0          347         12   253.990       2       5       5       255\n",
       "12347.0           61          7   160.835       4       4       5       445\n",
       "12348.0           97          5   179.310       3       4       5       345\n",
       "12349.0           40          4    95.025       5       3       4       534\n",
       "12350.0          332          1    25.200       2       1       2       212"
      ]
     },
     "execution_count": 23,
     "metadata": {},
     "output_type": "execute_result"
    }
   ],
   "source": [
    "rfm[\"R_Score\"] = pd.qcut(rfm[\"Recency\"],5,labels=[5,4,3,2,1])\n",
    "rfm[\"F_Score\"] = pd.qcut(rfm[\"Frequency\"].rank(method=\"first\"),5, labels=[1,2,3,4,5])\n",
    "rfm[\"M_Score\"] = pd.qcut(rfm[\"Monetary\"],5,labels=[1,2,3,4,5])\n",
    "rfm[\"RFM_Score\"] = rfm[\"R_Score\"].astype(str) + rfm[\"F_Score\"].astype(str) + rfm[\"M_Score\"].astype(str)\n",
    "rfm.head()"
   ]
  },
  {
   "cell_type": "code",
   "execution_count": 24,
   "metadata": {},
   "outputs": [
    {
     "data": {
      "text/html": [
       "<div>\n",
       "<style scoped>\n",
       "    .dataframe tbody tr th:only-of-type {\n",
       "        vertical-align: middle;\n",
       "    }\n",
       "\n",
       "    .dataframe tbody tr th {\n",
       "        vertical-align: top;\n",
       "    }\n",
       "\n",
       "    .dataframe thead th {\n",
       "        text-align: right;\n",
       "    }\n",
       "</style>\n",
       "<table border=\"1\" class=\"dataframe\">\n",
       "  <thead>\n",
       "    <tr style=\"text-align: right;\">\n",
       "      <th></th>\n",
       "      <th>Recency</th>\n",
       "      <th>Frequency</th>\n",
       "      <th>Monetary</th>\n",
       "      <th>R_Score</th>\n",
       "      <th>F_Score</th>\n",
       "      <th>M_Score</th>\n",
       "      <th>RFM_Score</th>\n",
       "      <th>Segment</th>\n",
       "    </tr>\n",
       "    <tr>\n",
       "      <th>Customer ID</th>\n",
       "      <th></th>\n",
       "      <th></th>\n",
       "      <th></th>\n",
       "      <th></th>\n",
       "      <th></th>\n",
       "      <th></th>\n",
       "      <th></th>\n",
       "      <th></th>\n",
       "    </tr>\n",
       "  </thead>\n",
       "  <tbody>\n",
       "    <tr>\n",
       "      <th>12346.0</th>\n",
       "      <td>347</td>\n",
       "      <td>12</td>\n",
       "      <td>253.990</td>\n",
       "      <td>2</td>\n",
       "      <td>5</td>\n",
       "      <td>5</td>\n",
       "      <td>255</td>\n",
       "      <td>cant_loose</td>\n",
       "    </tr>\n",
       "    <tr>\n",
       "      <th>12347.0</th>\n",
       "      <td>61</td>\n",
       "      <td>7</td>\n",
       "      <td>160.835</td>\n",
       "      <td>4</td>\n",
       "      <td>4</td>\n",
       "      <td>5</td>\n",
       "      <td>445</td>\n",
       "      <td>loyal_customers</td>\n",
       "    </tr>\n",
       "    <tr>\n",
       "      <th>12348.0</th>\n",
       "      <td>97</td>\n",
       "      <td>5</td>\n",
       "      <td>179.310</td>\n",
       "      <td>3</td>\n",
       "      <td>4</td>\n",
       "      <td>5</td>\n",
       "      <td>345</td>\n",
       "      <td>loyal_customers</td>\n",
       "    </tr>\n",
       "    <tr>\n",
       "      <th>12349.0</th>\n",
       "      <td>40</td>\n",
       "      <td>4</td>\n",
       "      <td>95.025</td>\n",
       "      <td>5</td>\n",
       "      <td>3</td>\n",
       "      <td>4</td>\n",
       "      <td>534</td>\n",
       "      <td>potential_loyalists</td>\n",
       "    </tr>\n",
       "    <tr>\n",
       "      <th>12350.0</th>\n",
       "      <td>332</td>\n",
       "      <td>1</td>\n",
       "      <td>25.200</td>\n",
       "      <td>2</td>\n",
       "      <td>1</td>\n",
       "      <td>2</td>\n",
       "      <td>212</td>\n",
       "      <td>hibernating</td>\n",
       "    </tr>\n",
       "  </tbody>\n",
       "</table>\n",
       "</div>"
      ],
      "text/plain": [
       "             Recency  Frequency  Monetary R_Score F_Score M_Score RFM_Score  \\\n",
       "Customer ID                                                                   \n",
       "12346.0          347         12   253.990       2       5       5       255   \n",
       "12347.0           61          7   160.835       4       4       5       445   \n",
       "12348.0           97          5   179.310       3       4       5       345   \n",
       "12349.0           40          4    95.025       5       3       4       534   \n",
       "12350.0          332          1    25.200       2       1       2       212   \n",
       "\n",
       "                         Segment  \n",
       "Customer ID                       \n",
       "12346.0               cant_loose  \n",
       "12347.0          loyal_customers  \n",
       "12348.0          loyal_customers  \n",
       "12349.0      potential_loyalists  \n",
       "12350.0              hibernating  "
      ]
     },
     "execution_count": 24,
     "metadata": {},
     "output_type": "execute_result"
    }
   ],
   "source": [
    "seg_map = {r'[1-2][1-2]': 'hibernating',\n",
    "           r'[1-2][3-4]': 'at_Risk',\n",
    "           r'[1-2]5': 'cant_loose',\n",
    "           r'3[1-2]': 'about_to_sleep',\n",
    "           r'33': 'need_attention',\n",
    "           r'[3-4][4-5]': 'loyal_customers',\n",
    "           r'41': 'promising',\n",
    "           r'51': 'new_customers',\n",
    "           r'[4-5][2-3]': 'potential_loyalists',\n",
    "           r'5[4-5]': 'champions'}\n",
    "\n",
    "rfm[\"Segment\"] = rfm[\"R_Score\"].astype(str) + rfm[\"F_Score\"].astype(str)\n",
    "rfm[\"Segment\"] = rfm[\"Segment\"].replace(seg_map, regex=True)\n",
    "rfm.head()"
   ]
  },
  {
   "cell_type": "markdown",
   "metadata": {},
   "source": [
    "### Who are the top 10 of our best customers?"
   ]
  },
  {
   "cell_type": "code",
   "execution_count": 25,
   "metadata": {},
   "outputs": [
    {
     "data": {
      "text/html": [
       "<div>\n",
       "<style scoped>\n",
       "    .dataframe tbody tr th:only-of-type {\n",
       "        vertical-align: middle;\n",
       "    }\n",
       "\n",
       "    .dataframe tbody tr th {\n",
       "        vertical-align: top;\n",
       "    }\n",
       "\n",
       "    .dataframe thead th {\n",
       "        text-align: right;\n",
       "    }\n",
       "</style>\n",
       "<table border=\"1\" class=\"dataframe\">\n",
       "  <thead>\n",
       "    <tr style=\"text-align: right;\">\n",
       "      <th></th>\n",
       "      <th>Recency</th>\n",
       "      <th>Frequency</th>\n",
       "      <th>Monetary</th>\n",
       "      <th>R_Score</th>\n",
       "      <th>F_Score</th>\n",
       "      <th>M_Score</th>\n",
       "      <th>RFM_Score</th>\n",
       "      <th>Segment</th>\n",
       "    </tr>\n",
       "    <tr>\n",
       "      <th>Customer ID</th>\n",
       "      <th></th>\n",
       "      <th></th>\n",
       "      <th></th>\n",
       "      <th></th>\n",
       "      <th></th>\n",
       "      <th></th>\n",
       "      <th></th>\n",
       "      <th></th>\n",
       "    </tr>\n",
       "  </thead>\n",
       "  <tbody>\n",
       "    <tr>\n",
       "      <th>14911.0</th>\n",
       "      <td>21</td>\n",
       "      <td>391</td>\n",
       "      <td>9562.180</td>\n",
       "      <td>5</td>\n",
       "      <td>5</td>\n",
       "      <td>5</td>\n",
       "      <td>555</td>\n",
       "      <td>champions</td>\n",
       "    </tr>\n",
       "    <tr>\n",
       "      <th>13089.0</th>\n",
       "      <td>27</td>\n",
       "      <td>201</td>\n",
       "      <td>5941.140</td>\n",
       "      <td>5</td>\n",
       "      <td>5</td>\n",
       "      <td>5</td>\n",
       "      <td>555</td>\n",
       "      <td>champions</td>\n",
       "    </tr>\n",
       "    <tr>\n",
       "      <th>18102.0</th>\n",
       "      <td>33</td>\n",
       "      <td>142</td>\n",
       "      <td>5854.860</td>\n",
       "      <td>5</td>\n",
       "      <td>5</td>\n",
       "      <td>5</td>\n",
       "      <td>555</td>\n",
       "      <td>champions</td>\n",
       "    </tr>\n",
       "    <tr>\n",
       "      <th>14646.0</th>\n",
       "      <td>23</td>\n",
       "      <td>149</td>\n",
       "      <td>5521.655</td>\n",
       "      <td>5</td>\n",
       "      <td>5</td>\n",
       "      <td>5</td>\n",
       "      <td>555</td>\n",
       "      <td>champions</td>\n",
       "    </tr>\n",
       "    <tr>\n",
       "      <th>15311.0</th>\n",
       "      <td>21</td>\n",
       "      <td>206</td>\n",
       "      <td>5045.825</td>\n",
       "      <td>5</td>\n",
       "      <td>5</td>\n",
       "      <td>5</td>\n",
       "      <td>555</td>\n",
       "      <td>champions</td>\n",
       "    </tr>\n",
       "    <tr>\n",
       "      <th>15061.0</th>\n",
       "      <td>26</td>\n",
       "      <td>126</td>\n",
       "      <td>4863.370</td>\n",
       "      <td>5</td>\n",
       "      <td>5</td>\n",
       "      <td>5</td>\n",
       "      <td>555</td>\n",
       "      <td>champions</td>\n",
       "    </tr>\n",
       "    <tr>\n",
       "      <th>17949.0</th>\n",
       "      <td>24</td>\n",
       "      <td>116</td>\n",
       "      <td>4830.495</td>\n",
       "      <td>5</td>\n",
       "      <td>5</td>\n",
       "      <td>5</td>\n",
       "      <td>555</td>\n",
       "      <td>champions</td>\n",
       "    </tr>\n",
       "    <tr>\n",
       "      <th>14156.0</th>\n",
       "      <td>21</td>\n",
       "      <td>156</td>\n",
       "      <td>4682.865</td>\n",
       "      <td>5</td>\n",
       "      <td>5</td>\n",
       "      <td>5</td>\n",
       "      <td>555</td>\n",
       "      <td>champions</td>\n",
       "    </tr>\n",
       "    <tr>\n",
       "      <th>13798.0</th>\n",
       "      <td>22</td>\n",
       "      <td>108</td>\n",
       "      <td>4386.210</td>\n",
       "      <td>5</td>\n",
       "      <td>5</td>\n",
       "      <td>5</td>\n",
       "      <td>555</td>\n",
       "      <td>champions</td>\n",
       "    </tr>\n",
       "    <tr>\n",
       "      <th>16422.0</th>\n",
       "      <td>39</td>\n",
       "      <td>109</td>\n",
       "      <td>4248.025</td>\n",
       "      <td>5</td>\n",
       "      <td>5</td>\n",
       "      <td>5</td>\n",
       "      <td>555</td>\n",
       "      <td>champions</td>\n",
       "    </tr>\n",
       "  </tbody>\n",
       "</table>\n",
       "</div>"
      ],
      "text/plain": [
       "             Recency  Frequency  Monetary R_Score F_Score M_Score RFM_Score  \\\n",
       "Customer ID                                                                   \n",
       "14911.0           21        391  9562.180       5       5       5       555   \n",
       "13089.0           27        201  5941.140       5       5       5       555   \n",
       "18102.0           33        142  5854.860       5       5       5       555   \n",
       "14646.0           23        149  5521.655       5       5       5       555   \n",
       "15311.0           21        206  5045.825       5       5       5       555   \n",
       "15061.0           26        126  4863.370       5       5       5       555   \n",
       "17949.0           24        116  4830.495       5       5       5       555   \n",
       "14156.0           21        156  4682.865       5       5       5       555   \n",
       "13798.0           22        108  4386.210       5       5       5       555   \n",
       "16422.0           39        109  4248.025       5       5       5       555   \n",
       "\n",
       "               Segment  \n",
       "Customer ID             \n",
       "14911.0      champions  \n",
       "13089.0      champions  \n",
       "18102.0      champions  \n",
       "14646.0      champions  \n",
       "15311.0      champions  \n",
       "15061.0      champions  \n",
       "17949.0      champions  \n",
       "14156.0      champions  \n",
       "13798.0      champions  \n",
       "16422.0      champions  "
      ]
     },
     "execution_count": 25,
     "metadata": {},
     "output_type": "execute_result"
    }
   ],
   "source": [
    "rfm[rfm[\"RFM_Score\"]=='555'].sort_values(\"Monetary\", ascending=False).head(10)"
   ]
  },
  {
   "cell_type": "markdown",
   "metadata": {},
   "source": [
    "### Summary Statistics for RFM"
   ]
  },
  {
   "cell_type": "code",
   "execution_count": 26,
   "metadata": {},
   "outputs": [
    {
     "data": {
      "text/html": [
       "<div>\n",
       "<style scoped>\n",
       "    .dataframe tbody tr th:only-of-type {\n",
       "        vertical-align: middle;\n",
       "    }\n",
       "\n",
       "    .dataframe tbody tr th {\n",
       "        vertical-align: top;\n",
       "    }\n",
       "\n",
       "    .dataframe thead tr th {\n",
       "        text-align: left;\n",
       "    }\n",
       "\n",
       "    .dataframe thead tr:last-of-type th {\n",
       "        text-align: right;\n",
       "    }\n",
       "</style>\n",
       "<table border=\"1\" class=\"dataframe\">\n",
       "  <thead>\n",
       "    <tr>\n",
       "      <th></th>\n",
       "      <th colspan=\"7\" halign=\"left\">Recency</th>\n",
       "      <th colspan=\"7\" halign=\"left\">Frequency</th>\n",
       "      <th colspan=\"7\" halign=\"left\">Monetary</th>\n",
       "    </tr>\n",
       "    <tr>\n",
       "      <th></th>\n",
       "      <th>mean</th>\n",
       "      <th>median</th>\n",
       "      <th>count</th>\n",
       "      <th>std</th>\n",
       "      <th>min</th>\n",
       "      <th>max</th>\n",
       "      <th>skew</th>\n",
       "      <th>mean</th>\n",
       "      <th>median</th>\n",
       "      <th>count</th>\n",
       "      <th>...</th>\n",
       "      <th>min</th>\n",
       "      <th>max</th>\n",
       "      <th>skew</th>\n",
       "      <th>mean</th>\n",
       "      <th>median</th>\n",
       "      <th>count</th>\n",
       "      <th>std</th>\n",
       "      <th>min</th>\n",
       "      <th>max</th>\n",
       "      <th>skew</th>\n",
       "    </tr>\n",
       "    <tr>\n",
       "      <th>Segment</th>\n",
       "      <th></th>\n",
       "      <th></th>\n",
       "      <th></th>\n",
       "      <th></th>\n",
       "      <th></th>\n",
       "      <th></th>\n",
       "      <th></th>\n",
       "      <th></th>\n",
       "      <th></th>\n",
       "      <th></th>\n",
       "      <th></th>\n",
       "      <th></th>\n",
       "      <th></th>\n",
       "      <th></th>\n",
       "      <th></th>\n",
       "      <th></th>\n",
       "      <th></th>\n",
       "      <th></th>\n",
       "      <th></th>\n",
       "      <th></th>\n",
       "      <th></th>\n",
       "    </tr>\n",
       "  </thead>\n",
       "  <tbody>\n",
       "    <tr>\n",
       "      <th>about_to_sleep</th>\n",
       "      <td>151.775561</td>\n",
       "      <td>150.0</td>\n",
       "      <td>401</td>\n",
       "      <td>40.896815</td>\n",
       "      <td>94</td>\n",
       "      <td>225</td>\n",
       "      <td>0.127685</td>\n",
       "      <td>1.411471</td>\n",
       "      <td>1.0</td>\n",
       "      <td>401</td>\n",
       "      <td>...</td>\n",
       "      <td>1</td>\n",
       "      <td>2</td>\n",
       "      <td>0.361152</td>\n",
       "      <td>28.713853</td>\n",
       "      <td>25.200</td>\n",
       "      <td>401</td>\n",
       "      <td>19.017671</td>\n",
       "      <td>0.72</td>\n",
       "      <td>84.750</td>\n",
       "      <td>0.922116</td>\n",
       "    </tr>\n",
       "    <tr>\n",
       "      <th>at_Risk</th>\n",
       "      <td>397.976127</td>\n",
       "      <td>400.0</td>\n",
       "      <td>754</td>\n",
       "      <td>110.892046</td>\n",
       "      <td>226</td>\n",
       "      <td>932</td>\n",
       "      <td>0.553084</td>\n",
       "      <td>3.812997</td>\n",
       "      <td>3.0</td>\n",
       "      <td>754</td>\n",
       "      <td>...</td>\n",
       "      <td>2</td>\n",
       "      <td>8</td>\n",
       "      <td>0.861935</td>\n",
       "      <td>74.582115</td>\n",
       "      <td>64.400</td>\n",
       "      <td>754</td>\n",
       "      <td>51.241060</td>\n",
       "      <td>2.40</td>\n",
       "      <td>296.625</td>\n",
       "      <td>1.357973</td>\n",
       "    </tr>\n",
       "    <tr>\n",
       "      <th>cant_loose</th>\n",
       "      <td>343.959459</td>\n",
       "      <td>347.5</td>\n",
       "      <td>74</td>\n",
       "      <td>89.036615</td>\n",
       "      <td>226</td>\n",
       "      <td>566</td>\n",
       "      <td>0.351590</td>\n",
       "      <td>14.756757</td>\n",
       "      <td>11.0</td>\n",
       "      <td>74</td>\n",
       "      <td>...</td>\n",
       "      <td>8</td>\n",
       "      <td>155</td>\n",
       "      <td>6.946262</td>\n",
       "      <td>303.018176</td>\n",
       "      <td>215.305</td>\n",
       "      <td>74</td>\n",
       "      <td>405.511911</td>\n",
       "      <td>30.87</td>\n",
       "      <td>3223.855</td>\n",
       "      <td>5.575701</td>\n",
       "    </tr>\n",
       "    <tr>\n",
       "      <th>champions</th>\n",
       "      <td>32.470106</td>\n",
       "      <td>33.0</td>\n",
       "      <td>853</td>\n",
       "      <td>7.242163</td>\n",
       "      <td>21</td>\n",
       "      <td>44</td>\n",
       "      <td>-0.056338</td>\n",
       "      <td>18.361079</td>\n",
       "      <td>11.0</td>\n",
       "      <td>853</td>\n",
       "      <td>...</td>\n",
       "      <td>4</td>\n",
       "      <td>391</td>\n",
       "      <td>7.080884</td>\n",
       "      <td>411.406542</td>\n",
       "      <td>204.190</td>\n",
       "      <td>853</td>\n",
       "      <td>716.768867</td>\n",
       "      <td>13.55</td>\n",
       "      <td>9562.180</td>\n",
       "      <td>6.069905</td>\n",
       "    </tr>\n",
       "    <tr>\n",
       "      <th>hibernating</th>\n",
       "      <td>497.285714</td>\n",
       "      <td>471.5</td>\n",
       "      <td>1512</td>\n",
       "      <td>163.474956</td>\n",
       "      <td>226</td>\n",
       "      <td>1083</td>\n",
       "      <td>0.671043</td>\n",
       "      <td>1.236111</td>\n",
       "      <td>1.0</td>\n",
       "      <td>1512</td>\n",
       "      <td>...</td>\n",
       "      <td>1</td>\n",
       "      <td>2</td>\n",
       "      <td>1.243967</td>\n",
       "      <td>23.781532</td>\n",
       "      <td>17.700</td>\n",
       "      <td>1512</td>\n",
       "      <td>17.834603</td>\n",
       "      <td>0.00</td>\n",
       "      <td>84.750</td>\n",
       "      <td>1.158219</td>\n",
       "    </tr>\n",
       "    <tr>\n",
       "      <th>loyal_customers</th>\n",
       "      <td>99.590510</td>\n",
       "      <td>86.0</td>\n",
       "      <td>1138</td>\n",
       "      <td>47.810046</td>\n",
       "      <td>45</td>\n",
       "      <td>225</td>\n",
       "      <td>0.897529</td>\n",
       "      <td>10.202988</td>\n",
       "      <td>8.0</td>\n",
       "      <td>1138</td>\n",
       "      <td>...</td>\n",
       "      <td>4</td>\n",
       "      <td>140</td>\n",
       "      <td>6.149720</td>\n",
       "      <td>218.111450</td>\n",
       "      <td>149.715</td>\n",
       "      <td>1138</td>\n",
       "      <td>299.975115</td>\n",
       "      <td>5.53</td>\n",
       "      <td>5826.720</td>\n",
       "      <td>9.933558</td>\n",
       "    </tr>\n",
       "    <tr>\n",
       "      <th>need_attention</th>\n",
       "      <td>152.029740</td>\n",
       "      <td>148.0</td>\n",
       "      <td>269</td>\n",
       "      <td>40.836485</td>\n",
       "      <td>94</td>\n",
       "      <td>225</td>\n",
       "      <td>0.162667</td>\n",
       "      <td>3.085502</td>\n",
       "      <td>3.0</td>\n",
       "      <td>269</td>\n",
       "      <td>...</td>\n",
       "      <td>2</td>\n",
       "      <td>4</td>\n",
       "      <td>-0.084569</td>\n",
       "      <td>61.901245</td>\n",
       "      <td>60.450</td>\n",
       "      <td>269</td>\n",
       "      <td>33.165342</td>\n",
       "      <td>4.15</td>\n",
       "      <td>169.500</td>\n",
       "      <td>0.570079</td>\n",
       "    </tr>\n",
       "    <tr>\n",
       "      <th>new_customers</th>\n",
       "      <td>35.321429</td>\n",
       "      <td>36.0</td>\n",
       "      <td>56</td>\n",
       "      <td>6.472620</td>\n",
       "      <td>21</td>\n",
       "      <td>44</td>\n",
       "      <td>-0.679879</td>\n",
       "      <td>1.000000</td>\n",
       "      <td>1.0</td>\n",
       "      <td>56</td>\n",
       "      <td>...</td>\n",
       "      <td>1</td>\n",
       "      <td>1</td>\n",
       "      <td>0.000000</td>\n",
       "      <td>19.541071</td>\n",
       "      <td>16.100</td>\n",
       "      <td>56</td>\n",
       "      <td>12.796658</td>\n",
       "      <td>0.00</td>\n",
       "      <td>42.375</td>\n",
       "      <td>0.565933</td>\n",
       "    </tr>\n",
       "    <tr>\n",
       "      <th>potential_loyalists</th>\n",
       "      <td>52.601164</td>\n",
       "      <td>47.0</td>\n",
       "      <td>687</td>\n",
       "      <td>18.942475</td>\n",
       "      <td>21</td>\n",
       "      <td>93</td>\n",
       "      <td>0.405589</td>\n",
       "      <td>2.595342</td>\n",
       "      <td>3.0</td>\n",
       "      <td>687</td>\n",
       "      <td>...</td>\n",
       "      <td>1</td>\n",
       "      <td>4</td>\n",
       "      <td>-0.033359</td>\n",
       "      <td>47.794811</td>\n",
       "      <td>42.380</td>\n",
       "      <td>687</td>\n",
       "      <td>32.569028</td>\n",
       "      <td>0.75</td>\n",
       "      <td>169.500</td>\n",
       "      <td>0.856106</td>\n",
       "    </tr>\n",
       "    <tr>\n",
       "      <th>promising</th>\n",
       "      <td>69.361345</td>\n",
       "      <td>71.0</td>\n",
       "      <td>119</td>\n",
       "      <td>14.925085</td>\n",
       "      <td>45</td>\n",
       "      <td>93</td>\n",
       "      <td>-0.069281</td>\n",
       "      <td>1.000000</td>\n",
       "      <td>1.0</td>\n",
       "      <td>119</td>\n",
       "      <td>...</td>\n",
       "      <td>1</td>\n",
       "      <td>1</td>\n",
       "      <td>0.000000</td>\n",
       "      <td>17.942269</td>\n",
       "      <td>15.000</td>\n",
       "      <td>119</td>\n",
       "      <td>12.775668</td>\n",
       "      <td>0.85</td>\n",
       "      <td>42.375</td>\n",
       "      <td>0.772701</td>\n",
       "    </tr>\n",
       "  </tbody>\n",
       "</table>\n",
       "<p>10 rows × 21 columns</p>\n",
       "</div>"
      ],
      "text/plain": [
       "                        Recency                                                \\\n",
       "                           mean median count         std  min   max      skew   \n",
       "Segment                                                                         \n",
       "about_to_sleep       151.775561  150.0   401   40.896815   94   225  0.127685   \n",
       "at_Risk              397.976127  400.0   754  110.892046  226   932  0.553084   \n",
       "cant_loose           343.959459  347.5    74   89.036615  226   566  0.351590   \n",
       "champions             32.470106   33.0   853    7.242163   21    44 -0.056338   \n",
       "hibernating          497.285714  471.5  1512  163.474956  226  1083  0.671043   \n",
       "loyal_customers       99.590510   86.0  1138   47.810046   45   225  0.897529   \n",
       "need_attention       152.029740  148.0   269   40.836485   94   225  0.162667   \n",
       "new_customers         35.321429   36.0    56    6.472620   21    44 -0.679879   \n",
       "potential_loyalists   52.601164   47.0   687   18.942475   21    93  0.405589   \n",
       "promising             69.361345   71.0   119   14.925085   45    93 -0.069281   \n",
       "\n",
       "                     Frequency               ...                     \\\n",
       "                          mean median count  ... min  max      skew   \n",
       "Segment                                      ...                      \n",
       "about_to_sleep        1.411471    1.0   401  ...   1    2  0.361152   \n",
       "at_Risk               3.812997    3.0   754  ...   2    8  0.861935   \n",
       "cant_loose           14.756757   11.0    74  ...   8  155  6.946262   \n",
       "champions            18.361079   11.0   853  ...   4  391  7.080884   \n",
       "hibernating           1.236111    1.0  1512  ...   1    2  1.243967   \n",
       "loyal_customers      10.202988    8.0  1138  ...   4  140  6.149720   \n",
       "need_attention        3.085502    3.0   269  ...   2    4 -0.084569   \n",
       "new_customers         1.000000    1.0    56  ...   1    1  0.000000   \n",
       "potential_loyalists   2.595342    3.0   687  ...   1    4 -0.033359   \n",
       "promising             1.000000    1.0   119  ...   1    1  0.000000   \n",
       "\n",
       "                       Monetary                                              \\\n",
       "                           mean   median count         std    min       max   \n",
       "Segment                                                                       \n",
       "about_to_sleep        28.713853   25.200   401   19.017671   0.72    84.750   \n",
       "at_Risk               74.582115   64.400   754   51.241060   2.40   296.625   \n",
       "cant_loose           303.018176  215.305    74  405.511911  30.87  3223.855   \n",
       "champions            411.406542  204.190   853  716.768867  13.55  9562.180   \n",
       "hibernating           23.781532   17.700  1512   17.834603   0.00    84.750   \n",
       "loyal_customers      218.111450  149.715  1138  299.975115   5.53  5826.720   \n",
       "need_attention        61.901245   60.450   269   33.165342   4.15   169.500   \n",
       "new_customers         19.541071   16.100    56   12.796658   0.00    42.375   \n",
       "potential_loyalists   47.794811   42.380   687   32.569028   0.75   169.500   \n",
       "promising             17.942269   15.000   119   12.775668   0.85    42.375   \n",
       "\n",
       "                               \n",
       "                         skew  \n",
       "Segment                        \n",
       "about_to_sleep       0.922116  \n",
       "at_Risk              1.357973  \n",
       "cant_loose           5.575701  \n",
       "champions            6.069905  \n",
       "hibernating          1.158219  \n",
       "loyal_customers      9.933558  \n",
       "need_attention       0.570079  \n",
       "new_customers        0.565933  \n",
       "potential_loyalists  0.856106  \n",
       "promising            0.772701  \n",
       "\n",
       "[10 rows x 21 columns]"
      ]
     },
     "execution_count": 26,
     "metadata": {},
     "output_type": "execute_result"
    }
   ],
   "source": [
    "(rfm[[\"Segment\",\"Recency\",\"Frequency\", \"Monetary\"]]\n",
    ".groupby(\"Segment\")\n",
    ".agg([\"mean\",\"median\",\"count\",\"std\",\"min\",\"max\",\"skew\"])\n",
    ")\n"
   ]
  },
  {
   "cell_type": "markdown",
   "metadata": {},
   "source": [
    "### Recency by Segment Plot"
   ]
  },
  {
   "cell_type": "code",
   "execution_count": 90,
   "metadata": {},
   "outputs": [
    {
     "data": {
      "image/png": "[encoded data removed]",
      "text/plain": [
       "<Figure size 864x360 with 1 Axes>"
      ]
     },
     "metadata": {
      "needs_background": "light"
     },
     "output_type": "display_data"
    }
   ],
   "source": [
    "fig,ax = plt.subplots(figsize=(12,5))\n",
    "rec_data = (rfm\n",
    "            .groupby(\"Segment\")\n",
    "            .Recency\n",
    "            .median()\n",
    "            .head(10)\n",
    "            )\n",
    "(rec_data.plot.bar(ax=ax,rot=45))\n",
    "\n",
    "ax.spines[[\"top\",\"left\",\"right\"]].set_visible(False)\n",
    "ax.set_title(\"Median Recency by Segment\",fontsize=15)\n",
    "ax.get_yaxis().set_visible(False)\n",
    "ax.tick_params(bottom=False)\n",
    "for pos, value in enumerate(rec_data):\n",
    "    ax.text(pos, value+10, f\"{value}\",ha=\"center\")\n",
    "\n"
   ]
  },
  {
   "cell_type": "markdown",
   "metadata": {},
   "source": [
    "### Frequency by Segment Plot"
   ]
  },
  {
   "cell_type": "code",
   "execution_count": 96,
   "metadata": {},
   "outputs": [
    {
     "data": {
      "image/png": "[encoded data removed]",
      "text/plain": [
       "<Figure size 864x360 with 1 Axes>"
      ]
     },
     "metadata": {
      "needs_background": "light"
     },
     "output_type": "display_data"
    }
   ],
   "source": [
    "fig,ax = plt.subplots(figsize=(12,5))\n",
    "freq_data = (rfm\n",
    "            .groupby(\"Segment\")\n",
    "            .Frequency\n",
    "            .median()\n",
    "            .head(10)\n",
    "            )\n",
    "(freq_data.plot.bar(ax=ax,rot=45))\n",
    "\n",
    "ax.spines[[\"top\",\"left\",\"right\"]].set_visible(False)\n",
    "ax.set_title(\"Median Frequency by Segment\",fontsize=15)\n",
    "ax.get_yaxis().set_visible(False)\n",
    "ax.tick_params(bottom=False)\n",
    "for pos, value in enumerate(freq_data):\n",
    "    ax.text(pos, value+0.2, f\"{value}\",ha=\"center\")\n",
    "\n"
   ]
  },
  {
   "cell_type": "markdown",
   "metadata": {},
   "source": [
    "### Monetary by Segment Plot"
   ]
  },
  {
   "cell_type": "code",
   "execution_count": 100,
   "metadata": {},
   "outputs": [
    {
     "data": {
      "image/png": "[encoded data removed]",
      "text/plain": [
       "<Figure size 864x360 with 1 Axes>"
      ]
     },
     "metadata": {
      "needs_background": "light"
     },
     "output_type": "display_data"
    }
   ],
   "source": [
    "fig,ax = plt.subplots(figsize=(12,5))\n",
    "mon_data = (rfm\n",
    "            .groupby(\"Segment\")\n",
    "            .Monetary\n",
    "            .median()\n",
    "            .head(10)\n",
    "            )\n",
    "(mon_data.plot.bar(ax=ax,rot=45))\n",
    "\n",
    "ax.spines[[\"top\",\"left\",\"right\"]].set_visible(False)\n",
    "ax.set_title(\"Median Monetary by Segment\",fontsize=15)\n",
    "ax.get_yaxis().set_visible(False)\n",
    "ax.tick_params(bottom=False)\n",
    "for pos, value in enumerate(round(mon_data,1)):\n",
    "    ax.text(pos, value+5, f\"{value}\",ha=\"center\")\n",
    "\n"
   ]
  },
  {
   "cell_type": "markdown",
   "metadata": {},
   "source": [
    "## Clustring With The K-MEANS "
   ]
  },
  {
   "cell_type": "code",
   "execution_count": 30,
   "metadata": {},
   "outputs": [
    {
     "data": {
      "text/html": [
       "<div>\n",
       "<style scoped>\n",
       "    .dataframe tbody tr th:only-of-type {\n",
       "        vertical-align: middle;\n",
       "    }\n",
       "\n",
       "    .dataframe tbody tr th {\n",
       "        vertical-align: top;\n",
       "    }\n",
       "\n",
       "    .dataframe thead th {\n",
       "        text-align: right;\n",
       "    }\n",
       "</style>\n",
       "<table border=\"1\" class=\"dataframe\">\n",
       "  <thead>\n",
       "    <tr style=\"text-align: right;\">\n",
       "      <th></th>\n",
       "      <th>Recency</th>\n",
       "      <th>Frequency</th>\n",
       "      <th>Monetary</th>\n",
       "    </tr>\n",
       "    <tr>\n",
       "      <th>Customer ID</th>\n",
       "      <th></th>\n",
       "      <th></th>\n",
       "      <th></th>\n",
       "    </tr>\n",
       "  </thead>\n",
       "  <tbody>\n",
       "    <tr>\n",
       "      <th>12346.0</th>\n",
       "      <td>347</td>\n",
       "      <td>12</td>\n",
       "      <td>253.990</td>\n",
       "    </tr>\n",
       "    <tr>\n",
       "      <th>12347.0</th>\n",
       "      <td>61</td>\n",
       "      <td>7</td>\n",
       "      <td>160.835</td>\n",
       "    </tr>\n",
       "    <tr>\n",
       "      <th>12348.0</th>\n",
       "      <td>97</td>\n",
       "      <td>5</td>\n",
       "      <td>179.310</td>\n",
       "    </tr>\n",
       "    <tr>\n",
       "      <th>12349.0</th>\n",
       "      <td>40</td>\n",
       "      <td>4</td>\n",
       "      <td>95.025</td>\n",
       "    </tr>\n",
       "    <tr>\n",
       "      <th>12350.0</th>\n",
       "      <td>332</td>\n",
       "      <td>1</td>\n",
       "      <td>25.200</td>\n",
       "    </tr>\n",
       "  </tbody>\n",
       "</table>\n",
       "</div>"
      ],
      "text/plain": [
       "             Recency  Frequency  Monetary\n",
       "Customer ID                              \n",
       "12346.0          347         12   253.990\n",
       "12347.0           61          7   160.835\n",
       "12348.0           97          5   179.310\n",
       "12349.0           40          4    95.025\n",
       "12350.0          332          1    25.200"
      ]
     },
     "execution_count": 30,
     "metadata": {},
     "output_type": "execute_result"
    }
   ],
   "source": [
    "rfm_kmeans = rfm.loc[:,\"Recency\":\"Monetary\"]\n",
    "rfm_kmeans.head()"
   ]
  },
  {
   "cell_type": "code",
   "execution_count": 31,
   "metadata": {},
   "outputs": [],
   "source": [
    "scaler = MinMaxScaler()\n",
    "ndf = scaler.fit_transform(rfm_kmeans)"
   ]
  },
  {
   "cell_type": "markdown",
   "metadata": {},
   "source": [
    "### Determining the K-Means Cluster Number - Inertia"
   ]
  },
  {
   "cell_type": "code",
   "execution_count": 32,
   "metadata": {},
   "outputs": [],
   "source": [
    "max_cluster = 10\n",
    "\n",
    "all_experiments = []\n",
    "\n",
    "for n_cluster in range(1,max_cluster,1):\n",
    "    kmeans = KMeans(n_clusters=n_cluster + 1, random_state=42)\n",
    "    kmeans.fit(ndf)\n",
    "    all_experiments.append(kmeans)"
   ]
  },
  {
   "cell_type": "code",
   "execution_count": 33,
   "metadata": {},
   "outputs": [
    {
     "data": {
      "image/png": "[encoded data removed]",
      "text/plain": [
       "<Figure size 1080x504 with 1 Axes>"
      ]
     },
     "metadata": {
      "needs_background": "light"
     },
     "output_type": "display_data"
    }
   ],
   "source": [
    "inertias = [experiment.inertia_ for experiment in all_experiments]\n",
    "plt.figure(figsize=(15, 7))\n",
    "plt.plot([2, 3, 4, 5, 6, 7, 8,9,10], inertias, 'bo-', linewidth=5, markersize=12)\n",
    "plt.axvline(x=4,color=\"r\")\n",
    "plt.xlabel(\"Number of Clusters\")\n",
    "plt.ylabel(\"Inertia\")\n",
    "plt.show()"
   ]
  },
  {
   "cell_type": "code",
   "execution_count": 34,
   "metadata": {},
   "outputs": [
    {
     "data": {
      "image/png": "[encoded data removed]",
      "text/plain": [
       "<Figure size 1080x504 with 1 Axes>"
      ]
     },
     "metadata": {
      "needs_background": "light"
     },
     "output_type": "display_data"
    }
   ],
   "source": [
    "from sklearn.metrics import silhouette_score,silhouette_samples\n",
    "silhouette_scores = [silhouette_score(ndf, experiment.labels_) for experiment in all_experiments]\n",
    "plt.figure(figsize=(15, 7))\n",
    "plt.plot([2, 3, 4, 5, 6, 7, 8,9,10], silhouette_scores, 'bo-', linewidth=5, markersize=15)\n",
    "plt.xlabel('Number of Clusters')\n",
    "plt.ylabel('Silhouette Score')\n",
    "plt.show()\n"
   ]
  },
  {
   "cell_type": "code",
   "execution_count": null,
   "metadata": {},
   "outputs": [],
   "source": []
  }
 ],
 "metadata": {
  "kernelspec": {
   "display_name": "Python 3.9.7 64-bit",
   "language": "python",
   "name": "python3"
  },
  "language_info": {
   "codemirror_mode": {
    "name": "ipython",
    "version": 3
   },
   "file_extension": ".py",
   "mimetype": "text/x-python",
   "name": "python",
   "nbconvert_exporter": "python",
   "pygments_lexer": "ipython3",
   "version": "3.9.7"
  },
  "orig_nbformat": 4,
  "vscode": {
   "interpreter": {
    "hash": "250a0ba0e8a9f87a8f9ed7fb1362bbcacf36eaa09e0a0e0086aabcde44b706bf"
   }
  }
 },
 "nbformat": 4,
 "nbformat_minor": 2
}
